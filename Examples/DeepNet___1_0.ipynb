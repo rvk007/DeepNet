{
  "nbformat": 4,
  "nbformat_minor": 0,
  "metadata": {
    "colab": {
      "name": "DeepNet < 1.0",
      "provenance": [],
      "collapsed_sections": [],
      "toc_visible": true
    },
    "kernelspec": {
      "name": "python3",
      "display_name": "Python 3"
    },
    "accelerator": "GPU"
  },
  "cells": [
    {
      "cell_type": "markdown",
      "metadata": {
        "id": "YyBNPhG60-lv",
        "colab_type": "text"
      },
      "source": [
        "##Objective\n",
        "###### Modularize the code into python files for RESNET-18 architecture on CIFAR-10 dataset"
      ]
    },
    {
      "cell_type": "markdown",
      "metadata": {
        "id": "4gHjnFTV0j0B",
        "colab_type": "text"
      },
      "source": [
        "##Import Packages\n",
        "##### Python libraries required for CIFAR10"
      ]
    },
    {
      "cell_type": "code",
      "metadata": {
        "id": "RxvfnbUs0iwF",
        "colab_type": "code",
        "colab": {}
      },
      "source": [
        "from torchsummary import summary\n",
        "import matplotlib.pyplot as plt\n",
        "import torch.optim as optim\n",
        "import torch.nn as nn\n",
        "from torch.optim.lr_scheduler import StepLR"
      ],
      "execution_count": 0,
      "outputs": []
    },
    {
      "cell_type": "markdown",
      "metadata": {
        "id": "fYiVHsDB1V5V",
        "colab_type": "text"
      },
      "source": [
        "###### Packages from Modules "
      ]
    },
    {
      "cell_type": "code",
      "metadata": {
        "id": "r8x9tZIwgnOy",
        "colab_type": "code",
        "colab": {}
      },
      "source": [
        "from train import train\n",
        "from test import test\n",
        "from data import CIFAR10\n",
        "from cuda import initialze_cuda\n",
        "from resnet import ResNet18\n",
        "from plot import plot_metric\n",
        "from results import display"
      ],
      "execution_count": 0,
      "outputs": []
    },
    {
      "cell_type": "markdown",
      "metadata": {
        "id": "lLKqRf8d_VNG",
        "colab_type": "text"
      },
      "source": [
        "##Initialize Cuda\n",
        "##### Set up the seed value for the machine"
      ]
    },
    {
      "cell_type": "code",
      "metadata": {
        "id": "fjyW3-XPqon6",
        "colab_type": "code",
        "outputId": "0106b95e-2521-41b2-f764-c59042835508",
        "colab": {
          "base_uri": "https://localhost:8080/",
          "height": 34
        }
      },
      "source": [
        "cuda, device = initialze_cuda(1)"
      ],
      "execution_count": 3,
      "outputs": [
        {
          "output_type": "stream",
          "text": [
            "Is CUDA Available? True\n"
          ],
          "name": "stdout"
        }
      ]
    },
    {
      "cell_type": "markdown",
      "metadata": {
        "id": "B4eMAXJw2ADu",
        "colab_type": "text"
      },
      "source": [
        "## Initialize Hyperparameters\n",
        "##### Assigning various parameters required by the dataset and model"
      ]
    },
    {
      "cell_type": "code",
      "metadata": {
        "id": "LKc3P3If1-ZI",
        "colab_type": "code",
        "colab": {}
      },
      "source": [
        "class Args:\n",
        "    \n",
        "    cuda = cuda\n",
        "    batch_size = 64\n",
        "    num_workers = 4\n",
        "    horizontal_flip = 0.2\n",
        "    vertical_flip = 0.1\n",
        "    rotation = 10\n",
        "    random_erasing = 0.3\n",
        "\n",
        "    learning_rate = 0.01\n",
        "    momentum = 0.9\n",
        "    lr_step = 25\n",
        "    lr_gamma = 0.1\n",
        "    epochs = 50"
      ],
      "execution_count": 0,
      "outputs": []
    },
    {
      "cell_type": "markdown",
      "metadata": {
        "id": "aeVtW3d5YCui",
        "colab_type": "text"
      },
      "source": [
        "###Intialize CIFAR-10 dataset"
      ]
    },
    {
      "cell_type": "code",
      "metadata": {
        "id": "VnETFlzvqv-8",
        "colab_type": "code",
        "outputId": "deed2786-f955-4577-faa7-d1713be5e7c0",
        "colab": {
          "base_uri": "https://localhost:8080/",
          "height": 69
        }
      },
      "source": [
        "cifar10 = CIFAR10(cuda= Args.cuda,\n",
        "                  batch_size = Args.batch_size,\n",
        "                  num_workers = Args.num_workers,\n",
        "                  horizontal_flip = Args.horizontal_flip, \n",
        "                  vertical_flip = Args.vertical_flip, \n",
        "                  rotation = Args.rotation,\n",
        "                  cutout = 0.0,\n",
        "                  random_erasing = Args.random_erasing,\n",
        "                  guassian_blur = 0.0)"
      ],
      "execution_count": 5,
      "outputs": [
        {
          "output_type": "stream",
          "text": [
            "Files already downloaded and verified\n",
            "Files already downloaded and verified\n",
            "Files already downloaded and verified\n"
          ],
          "name": "stdout"
        }
      ]
    },
    {
      "cell_type": "markdown",
      "metadata": {
        "id": "oBbzDP9y_iC7",
        "colab_type": "text"
      },
      "source": [
        "##Visualizing images from the CIFAR-10 Dataset\n",
        "##### These images can help one realise which image augmentation techniques are the best for the given dataset"
      ]
    },
    {
      "cell_type": "code",
      "metadata": {
        "id": "Zobb584CxSDV",
        "colab_type": "code",
        "outputId": "b2e98cb6-1fa0-48a4-bcec-92aea0692115",
        "colab": {
          "base_uri": "https://localhost:8080/",
          "height": 147
        }
      },
      "source": [
        "classes = cifar10.classes\n",
        "sample_data, sample_targets = cifar10.data\n",
        "\n",
        "#Dimension of the data\n",
        "_ ,height,width,channels = sample_data.shape\n",
        "\n",
        "# Set number of images to display\n",
        "num_images = 4\n",
        "\n",
        "# Display images with labels\n",
        "fig, axs = plt.subplots(1, 4, figsize=(8, 8))\n",
        "fig.tight_layout()\n",
        "\n",
        "for i in range(num_images):\n",
        "    axs[i].axis('off')\n",
        "    axs[i].set_title(f'Label: {classes[sample_targets[i]]}')\n",
        "    axs[i].imshow(sample_data[i])"
      ],
      "execution_count": 6,
      "outputs": [
        {
          "output_type": "display_data",
          "data": {
            "image/png": "[encoded data removed]",
            "text/plain": [
              "<Figure size 576x576 with 4 Axes>"
            ]
          },
          "metadata": {
            "tags": []
          }
        }
      ]
    },
    {
      "cell_type": "markdown",
      "metadata": {
        "id": "AkBP8h1mAFKx",
        "colab_type": "text"
      },
      "source": [
        "###Load data on Dataloader"
      ]
    },
    {
      "cell_type": "code",
      "metadata": {
        "id": "dKMFXKpJP7t5",
        "colab_type": "code",
        "colab": {}
      },
      "source": [
        "train_loader = cifar10.dataloader(train = True)\n",
        "test_loader = cifar10.dataloader(train = False)"
      ],
      "execution_count": 0,
      "outputs": []
    },
    {
      "cell_type": "markdown",
      "metadata": {
        "id": "lWI-1Eo7AOGR",
        "colab_type": "text"
      },
      "source": [
        "##Architecture \n",
        "#####Load the model architecture on the device \n",
        "#####Summary of the Architecture"
      ]
    },
    {
      "cell_type": "code",
      "metadata": {
        "id": "kJQ71vPpguRc",
        "colab_type": "code",
        "outputId": "f8df60d9-95f7-4ebf-ef40-aea9dfd57175",
        "colab": {
          "base_uri": "https://localhost:8080/",
          "height": 1000
        }
      },
      "source": [
        "model = ResNet18().to(device)\n",
        "summary(model, cifar10.input_size)"
      ],
      "execution_count": 8,
      "outputs": [
        {
          "output_type": "stream",
          "text": [
            "----------------------------------------------------------------\n",
            "        Layer (type)               Output Shape         Param #\n",
            "================================================================\n",
            "            Conv2d-1           [-1, 64, 32, 32]           1,728\n",
            "       BatchNorm2d-2           [-1, 64, 32, 32]             128\n",
            "            Conv2d-3           [-1, 64, 32, 32]          36,864\n",
            "       BatchNorm2d-4           [-1, 64, 32, 32]             128\n",
            "            Conv2d-5           [-1, 64, 32, 32]          36,864\n",
            "       BatchNorm2d-6           [-1, 64, 32, 32]             128\n",
            "        BasicBlock-7           [-1, 64, 32, 32]               0\n",
            "            Conv2d-8           [-1, 64, 32, 32]          36,864\n",
            "       BatchNorm2d-9           [-1, 64, 32, 32]             128\n",
            "           Conv2d-10           [-1, 64, 32, 32]          36,864\n",
            "      BatchNorm2d-11           [-1, 64, 32, 32]             128\n",
            "       BasicBlock-12           [-1, 64, 32, 32]               0\n",
            "           Conv2d-13          [-1, 128, 16, 16]          73,728\n",
            "      BatchNorm2d-14          [-1, 128, 16, 16]             256\n",
            "           Conv2d-15          [-1, 128, 16, 16]         147,456\n",
            "      BatchNorm2d-16          [-1, 128, 16, 16]             256\n",
            "           Conv2d-17          [-1, 128, 16, 16]           8,192\n",
            "      BatchNorm2d-18          [-1, 128, 16, 16]             256\n",
            "       BasicBlock-19          [-1, 128, 16, 16]               0\n",
            "           Conv2d-20          [-1, 128, 16, 16]         147,456\n",
            "      BatchNorm2d-21          [-1, 128, 16, 16]             256\n",
            "           Conv2d-22          [-1, 128, 16, 16]         147,456\n",
            "      BatchNorm2d-23          [-1, 128, 16, 16]             256\n",
            "       BasicBlock-24          [-1, 128, 16, 16]               0\n",
            "           Conv2d-25            [-1, 256, 8, 8]         294,912\n",
            "      BatchNorm2d-26            [-1, 256, 8, 8]             512\n",
            "           Conv2d-27            [-1, 256, 8, 8]         589,824\n",
            "      BatchNorm2d-28            [-1, 256, 8, 8]             512\n",
            "           Conv2d-29            [-1, 256, 8, 8]          32,768\n",
            "      BatchNorm2d-30            [-1, 256, 8, 8]             512\n",
            "       BasicBlock-31            [-1, 256, 8, 8]               0\n",
            "           Conv2d-32            [-1, 256, 8, 8]         589,824\n",
            "      BatchNorm2d-33            [-1, 256, 8, 8]             512\n",
            "           Conv2d-34            [-1, 256, 8, 8]         589,824\n",
            "      BatchNorm2d-35            [-1, 256, 8, 8]             512\n",
            "       BasicBlock-36            [-1, 256, 8, 8]               0\n",
            "           Conv2d-37            [-1, 512, 4, 4]       1,179,648\n",
            "      BatchNorm2d-38            [-1, 512, 4, 4]           1,024\n",
            "           Conv2d-39            [-1, 512, 4, 4]       2,359,296\n",
            "      BatchNorm2d-40            [-1, 512, 4, 4]           1,024\n",
            "           Conv2d-41            [-1, 512, 4, 4]         131,072\n",
            "      BatchNorm2d-42            [-1, 512, 4, 4]           1,024\n",
            "       BasicBlock-43            [-1, 512, 4, 4]               0\n",
            "           Conv2d-44            [-1, 512, 4, 4]       2,359,296\n",
            "      BatchNorm2d-45            [-1, 512, 4, 4]           1,024\n",
            "           Conv2d-46            [-1, 512, 4, 4]       2,359,296\n",
            "      BatchNorm2d-47            [-1, 512, 4, 4]           1,024\n",
            "       BasicBlock-48            [-1, 512, 4, 4]               0\n",
            "           Linear-49                   [-1, 10]           5,130\n",
            "================================================================\n",
            "Total params: 11,173,962\n",
            "Trainable params: 11,173,962\n",
            "Non-trainable params: 0\n",
            "----------------------------------------------------------------\n",
            "Input size (MB): 0.01\n",
            "Forward/backward pass size (MB): 11.25\n",
            "Params size (MB): 42.63\n",
            "Estimated Total Size (MB): 53.89\n",
            "----------------------------------------------------------------\n"
          ],
          "name": "stdout"
        }
      ]
    },
    {
      "cell_type": "markdown",
      "metadata": {
        "id": "cgy-YYg7AZvF",
        "colab_type": "text"
      },
      "source": [
        "#Model Training and Validation\n",
        "##### Train the Resnet-18 achitecture "
      ]
    },
    {
      "cell_type": "code",
      "metadata": {
        "id": "kkDzI54ZnTmm",
        "colab_type": "code",
        "outputId": "07247bb3-89b4-4e5b-cdab-7b1e13d648cc",
        "colab": {
          "base_uri": "https://localhost:8080/",
          "height": 1000
        }
      },
      "source": [
        "losses = []\n",
        "accuracies = []\n",
        "\n",
        "criterion = nn.CrossEntropyLoss()\n",
        "optimizer = optim.SGD(model.parameters(), lr=Args.learning_rate, momentum=Args.momentum)\n",
        "scheduler = StepLR(optimizer, Args.lr_step, Args.lr_gamma)\n",
        "epochs = Args.epochs\n",
        "\n",
        "for epoch in range(1, epochs + 1):\n",
        "    print(f'Epoch {epoch}:')\n",
        "    train(model, train_loader, device, optimizer, criterion)\n",
        "    scheduler.step()\n",
        "    test(model, test_loader, device, criterion, losses, accuracies)"
      ],
      "execution_count": 9,
      "outputs": [
        {
          "output_type": "stream",
          "text": [
            "\r  0%|          | 0/782 [00:00<?, ?it/s]"
          ],
          "name": "stderr"
        },
        {
          "output_type": "stream",
          "text": [
            "Epoch 1:\n"
          ],
          "name": "stdout"
        },
        {
          "output_type": "stream",
          "text": [
            "Loss=1.17 Batch ID=781 Accuracy=45.73: 100%|██████████| 782/782 [00:57<00:00, 13.49it/s]\n",
            "  0%|          | 0/782 [00:00<?, ?it/s]"
          ],
          "name": "stderr"
        },
        {
          "output_type": "stream",
          "text": [
            "\n",
            "Validation set: Average loss: 0.0171, Accuracy: 6018/10000 (60.18%)\n",
            "\n",
            "Epoch 2:\n"
          ],
          "name": "stdout"
        },
        {
          "output_type": "stream",
          "text": [
            "Loss=0.99 Batch ID=781 Accuracy=62.68: 100%|██████████| 782/782 [00:57<00:00, 13.63it/s]\n",
            "  0%|          | 0/782 [00:00<?, ?it/s]"
          ],
          "name": "stderr"
        },
        {
          "output_type": "stream",
          "text": [
            "\n",
            "Validation set: Average loss: 0.0135, Accuracy: 6993/10000 (69.93%)\n",
            "\n",
            "Epoch 3:\n"
          ],
          "name": "stdout"
        },
        {
          "output_type": "stream",
          "text": [
            "Loss=1.33 Batch ID=781 Accuracy=70.00: 100%|██████████| 782/782 [00:57<00:00, 13.51it/s]\n",
            "  0%|          | 0/782 [00:00<?, ?it/s]"
          ],
          "name": "stderr"
        },
        {
          "output_type": "stream",
          "text": [
            "\n",
            "Validation set: Average loss: 0.0122, Accuracy: 7262/10000 (72.62%)\n",
            "\n",
            "Epoch 4:\n"
          ],
          "name": "stdout"
        },
        {
          "output_type": "stream",
          "text": [
            "Loss=0.65 Batch ID=781 Accuracy=73.84: 100%|██████████| 782/782 [00:57<00:00, 13.50it/s]\n",
            "  0%|          | 0/782 [00:00<?, ?it/s]"
          ],
          "name": "stderr"
        },
        {
          "output_type": "stream",
          "text": [
            "\n",
            "Validation set: Average loss: 0.0096, Accuracy: 7936/10000 (79.36%)\n",
            "\n",
            "Epoch 5:\n"
          ],
          "name": "stdout"
        },
        {
          "output_type": "stream",
          "text": [
            "Loss=1.80 Batch ID=781 Accuracy=77.05: 100%|██████████| 782/782 [00:58<00:00, 13.46it/s]\n",
            "  0%|          | 0/782 [00:00<?, ?it/s]"
          ],
          "name": "stderr"
        },
        {
          "output_type": "stream",
          "text": [
            "\n",
            "Validation set: Average loss: 0.0093, Accuracy: 7994/10000 (79.94%)\n",
            "\n",
            "Epoch 6:\n"
          ],
          "name": "stdout"
        },
        {
          "output_type": "stream",
          "text": [
            "Loss=0.39 Batch ID=781 Accuracy=79.02: 100%|██████████| 782/782 [00:58<00:00, 13.39it/s]\n",
            "  0%|          | 0/782 [00:00<?, ?it/s]"
          ],
          "name": "stderr"
        },
        {
          "output_type": "stream",
          "text": [
            "\n",
            "Validation set: Average loss: 0.0087, Accuracy: 8115/10000 (81.15%)\n",
            "\n",
            "Epoch 7:\n"
          ],
          "name": "stdout"
        },
        {
          "output_type": "stream",
          "text": [
            "Loss=0.78 Batch ID=781 Accuracy=80.80: 100%|██████████| 782/782 [00:58<00:00, 13.40it/s]\n",
            "  0%|          | 0/782 [00:00<?, ?it/s]"
          ],
          "name": "stderr"
        },
        {
          "output_type": "stream",
          "text": [
            "\n",
            "Validation set: Average loss: 0.0073, Accuracy: 8407/10000 (84.07%)\n",
            "\n",
            "Epoch 8:\n"
          ],
          "name": "stdout"
        },
        {
          "output_type": "stream",
          "text": [
            "Loss=0.63 Batch ID=781 Accuracy=81.92: 100%|██████████| 782/782 [00:58<00:00, 13.38it/s]\n",
            "  0%|          | 0/782 [00:00<?, ?it/s]"
          ],
          "name": "stderr"
        },
        {
          "output_type": "stream",
          "text": [
            "\n",
            "Validation set: Average loss: 0.0077, Accuracy: 8343/10000 (83.43%)\n",
            "\n",
            "Epoch 9:\n"
          ],
          "name": "stdout"
        },
        {
          "output_type": "stream",
          "text": [
            "Loss=0.91 Batch ID=781 Accuracy=83.22: 100%|██████████| 782/782 [00:58<00:00, 13.46it/s]\n",
            "  0%|          | 0/782 [00:00<?, ?it/s]"
          ],
          "name": "stderr"
        },
        {
          "output_type": "stream",
          "text": [
            "\n",
            "Validation set: Average loss: 0.0075, Accuracy: 8464/10000 (84.64%)\n",
            "\n",
            "Epoch 10:\n"
          ],
          "name": "stdout"
        },
        {
          "output_type": "stream",
          "text": [
            "Loss=0.37 Batch ID=781 Accuracy=84.54: 100%|██████████| 782/782 [00:57<00:00, 13.53it/s]\n",
            "  0%|          | 0/782 [00:00<?, ?it/s]"
          ],
          "name": "stderr"
        },
        {
          "output_type": "stream",
          "text": [
            "\n",
            "Validation set: Average loss: 0.0071, Accuracy: 8465/10000 (84.65%)\n",
            "\n",
            "Epoch 11:\n"
          ],
          "name": "stdout"
        },
        {
          "output_type": "stream",
          "text": [
            "Loss=0.27 Batch ID=781 Accuracy=85.33: 100%|██████████| 782/782 [00:58<00:00, 13.40it/s]\n",
            "  0%|          | 0/782 [00:00<?, ?it/s]"
          ],
          "name": "stderr"
        },
        {
          "output_type": "stream",
          "text": [
            "\n",
            "Validation set: Average loss: 0.0063, Accuracy: 8637/10000 (86.37%)\n",
            "\n",
            "Epoch 12:\n"
          ],
          "name": "stdout"
        },
        {
          "output_type": "stream",
          "text": [
            "Loss=0.58 Batch ID=781 Accuracy=86.11: 100%|██████████| 782/782 [00:58<00:00, 13.42it/s]\n",
            "  0%|          | 0/782 [00:00<?, ?it/s]"
          ],
          "name": "stderr"
        },
        {
          "output_type": "stream",
          "text": [
            "\n",
            "Validation set: Average loss: 0.0067, Accuracy: 8612/10000 (86.12%)\n",
            "\n",
            "Epoch 13:\n"
          ],
          "name": "stdout"
        },
        {
          "output_type": "stream",
          "text": [
            "Loss=0.38 Batch ID=781 Accuracy=86.95: 100%|██████████| 782/782 [00:58<00:00, 13.37it/s]\n",
            "  0%|          | 0/782 [00:00<?, ?it/s]"
          ],
          "name": "stderr"
        },
        {
          "output_type": "stream",
          "text": [
            "\n",
            "Validation set: Average loss: 0.0067, Accuracy: 8630/10000 (86.30%)\n",
            "\n",
            "Epoch 14:\n"
          ],
          "name": "stdout"
        },
        {
          "output_type": "stream",
          "text": [
            "Loss=0.87 Batch ID=781 Accuracy=87.55: 100%|██████████| 782/782 [00:58<00:00, 13.40it/s]\n",
            "  0%|          | 0/782 [00:00<?, ?it/s]"
          ],
          "name": "stderr"
        },
        {
          "output_type": "stream",
          "text": [
            "\n",
            "Validation set: Average loss: 0.0063, Accuracy: 8702/10000 (87.02%)\n",
            "\n",
            "Epoch 15:\n"
          ],
          "name": "stdout"
        },
        {
          "output_type": "stream",
          "text": [
            "Loss=0.16 Batch ID=781 Accuracy=88.37: 100%|██████████| 782/782 [00:57<00:00, 13.51it/s]\n",
            "  0%|          | 0/782 [00:00<?, ?it/s]"
          ],
          "name": "stderr"
        },
        {
          "output_type": "stream",
          "text": [
            "\n",
            "Validation set: Average loss: 0.0064, Accuracy: 8706/10000 (87.06%)\n",
            "\n",
            "Epoch 16:\n"
          ],
          "name": "stdout"
        },
        {
          "output_type": "stream",
          "text": [
            "Loss=0.16 Batch ID=781 Accuracy=88.99: 100%|██████████| 782/782 [00:58<00:00, 13.47it/s]\n",
            "  0%|          | 0/782 [00:00<?, ?it/s]"
          ],
          "name": "stderr"
        },
        {
          "output_type": "stream",
          "text": [
            "\n",
            "Validation set: Average loss: 0.0067, Accuracy: 8633/10000 (86.33%)\n",
            "\n",
            "Epoch 17:\n"
          ],
          "name": "stdout"
        },
        {
          "output_type": "stream",
          "text": [
            "Loss=0.54 Batch ID=781 Accuracy=89.43: 100%|██████████| 782/782 [00:58<00:00, 13.45it/s]\n",
            "  0%|          | 0/782 [00:00<?, ?it/s]"
          ],
          "name": "stderr"
        },
        {
          "output_type": "stream",
          "text": [
            "\n",
            "Validation set: Average loss: 0.0062, Accuracy: 8756/10000 (87.56%)\n",
            "\n",
            "Epoch 18:\n"
          ],
          "name": "stdout"
        },
        {
          "output_type": "stream",
          "text": [
            "Loss=0.34 Batch ID=781 Accuracy=89.86: 100%|██████████| 782/782 [00:58<00:00, 13.46it/s]\n",
            "  0%|          | 0/782 [00:00<?, ?it/s]"
          ],
          "name": "stderr"
        },
        {
          "output_type": "stream",
          "text": [
            "\n",
            "Validation set: Average loss: 0.0058, Accuracy: 8812/10000 (88.12%)\n",
            "\n",
            "Epoch 19:\n"
          ],
          "name": "stdout"
        },
        {
          "output_type": "stream",
          "text": [
            "Loss=0.14 Batch ID=781 Accuracy=90.44: 100%|██████████| 782/782 [00:57<00:00, 13.49it/s]\n",
            "  0%|          | 0/782 [00:00<?, ?it/s]"
          ],
          "name": "stderr"
        },
        {
          "output_type": "stream",
          "text": [
            "\n",
            "Validation set: Average loss: 0.0063, Accuracy: 8738/10000 (87.38%)\n",
            "\n",
            "Epoch 20:\n"
          ],
          "name": "stdout"
        },
        {
          "output_type": "stream",
          "text": [
            "Loss=0.02 Batch ID=781 Accuracy=90.70: 100%|██████████| 782/782 [00:58<00:00, 13.48it/s]\n",
            "  0%|          | 0/782 [00:00<?, ?it/s]"
          ],
          "name": "stderr"
        },
        {
          "output_type": "stream",
          "text": [
            "\n",
            "Validation set: Average loss: 0.0060, Accuracy: 8787/10000 (87.87%)\n",
            "\n",
            "Epoch 21:\n"
          ],
          "name": "stdout"
        },
        {
          "output_type": "stream",
          "text": [
            "Loss=0.21 Batch ID=781 Accuracy=91.47: 100%|██████████| 782/782 [00:57<00:00, 13.54it/s]\n",
            "  0%|          | 0/782 [00:00<?, ?it/s]"
          ],
          "name": "stderr"
        },
        {
          "output_type": "stream",
          "text": [
            "\n",
            "Validation set: Average loss: 0.0067, Accuracy: 8733/10000 (87.33%)\n",
            "\n",
            "Epoch 22:\n"
          ],
          "name": "stdout"
        },
        {
          "output_type": "stream",
          "text": [
            "Loss=0.10 Batch ID=781 Accuracy=91.58: 100%|██████████| 782/782 [00:58<00:00, 13.45it/s]\n",
            "  0%|          | 0/782 [00:00<?, ?it/s]"
          ],
          "name": "stderr"
        },
        {
          "output_type": "stream",
          "text": [
            "\n",
            "Validation set: Average loss: 0.0062, Accuracy: 8778/10000 (87.78%)\n",
            "\n",
            "Epoch 23:\n"
          ],
          "name": "stdout"
        },
        {
          "output_type": "stream",
          "text": [
            "Loss=0.40 Batch ID=781 Accuracy=91.87: 100%|██████████| 782/782 [00:57<00:00, 13.54it/s]\n",
            "  0%|          | 0/782 [00:00<?, ?it/s]"
          ],
          "name": "stderr"
        },
        {
          "output_type": "stream",
          "text": [
            "\n",
            "Validation set: Average loss: 0.0060, Accuracy: 8848/10000 (88.48%)\n",
            "\n",
            "Epoch 24:\n"
          ],
          "name": "stdout"
        },
        {
          "output_type": "stream",
          "text": [
            "Loss=0.32 Batch ID=781 Accuracy=92.12: 100%|██████████| 782/782 [00:57<00:00, 13.49it/s]\n",
            "  0%|          | 0/782 [00:00<?, ?it/s]"
          ],
          "name": "stderr"
        },
        {
          "output_type": "stream",
          "text": [
            "\n",
            "Validation set: Average loss: 0.0058, Accuracy: 8893/10000 (88.93%)\n",
            "\n",
            "Epoch 25:\n"
          ],
          "name": "stdout"
        },
        {
          "output_type": "stream",
          "text": [
            "Loss=0.03 Batch ID=781 Accuracy=92.41: 100%|██████████| 782/782 [00:58<00:00, 13.47it/s]\n",
            "  0%|          | 0/782 [00:00<?, ?it/s]"
          ],
          "name": "stderr"
        },
        {
          "output_type": "stream",
          "text": [
            "\n",
            "Validation set: Average loss: 0.0058, Accuracy: 8911/10000 (89.11%)\n",
            "\n",
            "Epoch 26:\n"
          ],
          "name": "stdout"
        },
        {
          "output_type": "stream",
          "text": [
            "Loss=0.45 Batch ID=781 Accuracy=94.64: 100%|██████████| 782/782 [00:57<00:00, 13.50it/s]\n",
            "  0%|          | 0/782 [00:00<?, ?it/s]"
          ],
          "name": "stderr"
        },
        {
          "output_type": "stream",
          "text": [
            "\n",
            "Validation set: Average loss: 0.0048, Accuracy: 9062/10000 (90.62%)\n",
            "\n",
            "Epoch 27:\n"
          ],
          "name": "stdout"
        },
        {
          "output_type": "stream",
          "text": [
            "Loss=0.36 Batch ID=781 Accuracy=95.09: 100%|██████████| 782/782 [00:58<00:00, 13.47it/s]\n",
            "  0%|          | 0/782 [00:00<?, ?it/s]"
          ],
          "name": "stderr"
        },
        {
          "output_type": "stream",
          "text": [
            "\n",
            "Validation set: Average loss: 0.0047, Accuracy: 9080/10000 (90.80%)\n",
            "\n",
            "Epoch 28:\n"
          ],
          "name": "stdout"
        },
        {
          "output_type": "stream",
          "text": [
            "Loss=0.05 Batch ID=781 Accuracy=95.35: 100%|██████████| 782/782 [00:58<00:00, 13.39it/s]\n",
            "  0%|          | 0/782 [00:00<?, ?it/s]"
          ],
          "name": "stderr"
        },
        {
          "output_type": "stream",
          "text": [
            "\n",
            "Validation set: Average loss: 0.0046, Accuracy: 9100/10000 (91.00%)\n",
            "\n",
            "Epoch 29:\n"
          ],
          "name": "stdout"
        },
        {
          "output_type": "stream",
          "text": [
            "Loss=0.07 Batch ID=781 Accuracy=95.40: 100%|██████████| 782/782 [00:57<00:00, 13.51it/s]\n",
            "  0%|          | 0/782 [00:00<?, ?it/s]"
          ],
          "name": "stderr"
        },
        {
          "output_type": "stream",
          "text": [
            "\n",
            "Validation set: Average loss: 0.0046, Accuracy: 9113/10000 (91.13%)\n",
            "\n",
            "Epoch 30:\n"
          ],
          "name": "stdout"
        },
        {
          "output_type": "stream",
          "text": [
            "Loss=0.26 Batch ID=781 Accuracy=95.66: 100%|██████████| 782/782 [00:58<00:00, 13.38it/s]\n",
            "  0%|          | 0/782 [00:00<?, ?it/s]"
          ],
          "name": "stderr"
        },
        {
          "output_type": "stream",
          "text": [
            "\n",
            "Validation set: Average loss: 0.0047, Accuracy: 9106/10000 (91.06%)\n",
            "\n",
            "Epoch 31:\n"
          ],
          "name": "stdout"
        },
        {
          "output_type": "stream",
          "text": [
            "Loss=0.20 Batch ID=781 Accuracy=95.92: 100%|██████████| 782/782 [00:57<00:00, 13.49it/s]\n",
            "  0%|          | 0/782 [00:00<?, ?it/s]"
          ],
          "name": "stderr"
        },
        {
          "output_type": "stream",
          "text": [
            "\n",
            "Validation set: Average loss: 0.0048, Accuracy: 9093/10000 (90.93%)\n",
            "\n",
            "Epoch 32:\n"
          ],
          "name": "stdout"
        },
        {
          "output_type": "stream",
          "text": [
            "Loss=0.50 Batch ID=781 Accuracy=95.75: 100%|██████████| 782/782 [00:58<00:00, 13.47it/s]\n",
            "  0%|          | 0/782 [00:00<?, ?it/s]"
          ],
          "name": "stderr"
        },
        {
          "output_type": "stream",
          "text": [
            "\n",
            "Validation set: Average loss: 0.0047, Accuracy: 9100/10000 (91.00%)\n",
            "\n",
            "Epoch 33:\n"
          ],
          "name": "stdout"
        },
        {
          "output_type": "stream",
          "text": [
            "Loss=0.23 Batch ID=781 Accuracy=96.05: 100%|██████████| 782/782 [00:57<00:00, 13.55it/s]\n",
            "  0%|          | 0/782 [00:00<?, ?it/s]"
          ],
          "name": "stderr"
        },
        {
          "output_type": "stream",
          "text": [
            "\n",
            "Validation set: Average loss: 0.0046, Accuracy: 9106/10000 (91.06%)\n",
            "\n",
            "Epoch 34:\n"
          ],
          "name": "stdout"
        },
        {
          "output_type": "stream",
          "text": [
            "Loss=0.20 Batch ID=781 Accuracy=96.21: 100%|██████████| 782/782 [00:58<00:00, 13.47it/s]\n",
            "  0%|          | 0/782 [00:00<?, ?it/s]"
          ],
          "name": "stderr"
        },
        {
          "output_type": "stream",
          "text": [
            "\n",
            "Validation set: Average loss: 0.0047, Accuracy: 9123/10000 (91.23%)\n",
            "\n",
            "Epoch 35:\n"
          ],
          "name": "stdout"
        },
        {
          "output_type": "stream",
          "text": [
            "Loss=0.27 Batch ID=781 Accuracy=96.10: 100%|██████████| 782/782 [00:58<00:00, 13.46it/s]\n",
            "  0%|          | 0/782 [00:00<?, ?it/s]"
          ],
          "name": "stderr"
        },
        {
          "output_type": "stream",
          "text": [
            "\n",
            "Validation set: Average loss: 0.0047, Accuracy: 9102/10000 (91.02%)\n",
            "\n",
            "Epoch 36:\n"
          ],
          "name": "stdout"
        },
        {
          "output_type": "stream",
          "text": [
            "Loss=0.26 Batch ID=781 Accuracy=95.94: 100%|██████████| 782/782 [00:57<00:00, 13.53it/s]\n",
            "  0%|          | 0/782 [00:00<?, ?it/s]"
          ],
          "name": "stderr"
        },
        {
          "output_type": "stream",
          "text": [
            "\n",
            "Validation set: Average loss: 0.0046, Accuracy: 9114/10000 (91.14%)\n",
            "\n",
            "Epoch 37:\n"
          ],
          "name": "stdout"
        },
        {
          "output_type": "stream",
          "text": [
            "Loss=0.32 Batch ID=781 Accuracy=96.24: 100%|██████████| 782/782 [00:58<00:00, 13.48it/s]\n",
            "  0%|          | 0/782 [00:00<?, ?it/s]"
          ],
          "name": "stderr"
        },
        {
          "output_type": "stream",
          "text": [
            "\n",
            "Validation set: Average loss: 0.0047, Accuracy: 9092/10000 (90.92%)\n",
            "\n",
            "Epoch 38:\n"
          ],
          "name": "stdout"
        },
        {
          "output_type": "stream",
          "text": [
            "Loss=0.09 Batch ID=781 Accuracy=96.29: 100%|██████████| 782/782 [00:58<00:00, 13.38it/s]\n",
            "  0%|          | 0/782 [00:00<?, ?it/s]"
          ],
          "name": "stderr"
        },
        {
          "output_type": "stream",
          "text": [
            "\n",
            "Validation set: Average loss: 0.0047, Accuracy: 9112/10000 (91.12%)\n",
            "\n",
            "Epoch 39:\n"
          ],
          "name": "stdout"
        },
        {
          "output_type": "stream",
          "text": [
            "Loss=0.05 Batch ID=781 Accuracy=96.42: 100%|██████████| 782/782 [00:58<00:00, 13.48it/s]\n",
            "  0%|          | 0/782 [00:00<?, ?it/s]"
          ],
          "name": "stderr"
        },
        {
          "output_type": "stream",
          "text": [
            "\n",
            "Validation set: Average loss: 0.0047, Accuracy: 9121/10000 (91.21%)\n",
            "\n",
            "Epoch 40:\n"
          ],
          "name": "stdout"
        },
        {
          "output_type": "stream",
          "text": [
            "Loss=0.02 Batch ID=781 Accuracy=96.41: 100%|██████████| 782/782 [00:58<00:00, 13.48it/s]\n",
            "  0%|          | 0/782 [00:00<?, ?it/s]"
          ],
          "name": "stderr"
        },
        {
          "output_type": "stream",
          "text": [
            "\n",
            "Validation set: Average loss: 0.0047, Accuracy: 9109/10000 (91.09%)\n",
            "\n",
            "Epoch 41:\n"
          ],
          "name": "stdout"
        },
        {
          "output_type": "stream",
          "text": [
            "Loss=0.05 Batch ID=781 Accuracy=96.42: 100%|██████████| 782/782 [00:58<00:00, 13.44it/s]\n",
            "  0%|          | 0/782 [00:00<?, ?it/s]"
          ],
          "name": "stderr"
        },
        {
          "output_type": "stream",
          "text": [
            "\n",
            "Validation set: Average loss: 0.0047, Accuracy: 9110/10000 (91.10%)\n",
            "\n",
            "Epoch 42:\n"
          ],
          "name": "stdout"
        },
        {
          "output_type": "stream",
          "text": [
            "Loss=0.24 Batch ID=781 Accuracy=96.47: 100%|██████████| 782/782 [00:57<00:00, 13.51it/s]\n",
            "  0%|          | 0/782 [00:00<?, ?it/s]"
          ],
          "name": "stderr"
        },
        {
          "output_type": "stream",
          "text": [
            "\n",
            "Validation set: Average loss: 0.0047, Accuracy: 9098/10000 (90.98%)\n",
            "\n",
            "Epoch 43:\n"
          ],
          "name": "stdout"
        },
        {
          "output_type": "stream",
          "text": [
            "Loss=0.06 Batch ID=781 Accuracy=96.36: 100%|██████████| 782/782 [00:58<00:00, 13.47it/s]\n",
            "  0%|          | 0/782 [00:00<?, ?it/s]"
          ],
          "name": "stderr"
        },
        {
          "output_type": "stream",
          "text": [
            "\n",
            "Validation set: Average loss: 0.0048, Accuracy: 9106/10000 (91.06%)\n",
            "\n",
            "Epoch 44:\n"
          ],
          "name": "stdout"
        },
        {
          "output_type": "stream",
          "text": [
            "Loss=0.12 Batch ID=781 Accuracy=96.59: 100%|██████████| 782/782 [00:57<00:00, 13.50it/s]\n",
            "  0%|          | 0/782 [00:00<?, ?it/s]"
          ],
          "name": "stderr"
        },
        {
          "output_type": "stream",
          "text": [
            "\n",
            "Validation set: Average loss: 0.0048, Accuracy: 9123/10000 (91.23%)\n",
            "\n",
            "Epoch 45:\n"
          ],
          "name": "stdout"
        },
        {
          "output_type": "stream",
          "text": [
            "Loss=0.22 Batch ID=781 Accuracy=96.47: 100%|██████████| 782/782 [00:58<00:00, 13.47it/s]\n",
            "  0%|          | 0/782 [00:00<?, ?it/s]"
          ],
          "name": "stderr"
        },
        {
          "output_type": "stream",
          "text": [
            "\n",
            "Validation set: Average loss: 0.0048, Accuracy: 9111/10000 (91.11%)\n",
            "\n",
            "Epoch 46:\n"
          ],
          "name": "stdout"
        },
        {
          "output_type": "stream",
          "text": [
            "Loss=0.10 Batch ID=781 Accuracy=96.69: 100%|██████████| 782/782 [00:58<00:00, 13.46it/s]\n",
            "  0%|          | 0/782 [00:00<?, ?it/s]"
          ],
          "name": "stderr"
        },
        {
          "output_type": "stream",
          "text": [
            "\n",
            "Validation set: Average loss: 0.0048, Accuracy: 9120/10000 (91.20%)\n",
            "\n",
            "Epoch 47:\n"
          ],
          "name": "stdout"
        },
        {
          "output_type": "stream",
          "text": [
            "Loss=0.03 Batch ID=781 Accuracy=96.70: 100%|██████████| 782/782 [00:58<00:00, 13.46it/s]\n",
            "  0%|          | 0/782 [00:00<?, ?it/s]"
          ],
          "name": "stderr"
        },
        {
          "output_type": "stream",
          "text": [
            "\n",
            "Validation set: Average loss: 0.0048, Accuracy: 9111/10000 (91.11%)\n",
            "\n",
            "Epoch 48:\n"
          ],
          "name": "stdout"
        },
        {
          "output_type": "stream",
          "text": [
            "Loss=0.06 Batch ID=781 Accuracy=96.63: 100%|██████████| 782/782 [00:57<00:00, 13.55it/s]\n",
            "  0%|          | 0/782 [00:00<?, ?it/s]"
          ],
          "name": "stderr"
        },
        {
          "output_type": "stream",
          "text": [
            "\n",
            "Validation set: Average loss: 0.0048, Accuracy: 9097/10000 (90.97%)\n",
            "\n",
            "Epoch 49:\n"
          ],
          "name": "stdout"
        },
        {
          "output_type": "stream",
          "text": [
            "Loss=0.27 Batch ID=781 Accuracy=96.86: 100%|██████████| 782/782 [00:58<00:00, 13.44it/s]\n",
            "  0%|          | 0/782 [00:00<?, ?it/s]"
          ],
          "name": "stderr"
        },
        {
          "output_type": "stream",
          "text": [
            "\n",
            "Validation set: Average loss: 0.0048, Accuracy: 9109/10000 (91.09%)\n",
            "\n",
            "Epoch 50:\n"
          ],
          "name": "stdout"
        },
        {
          "output_type": "stream",
          "text": [
            "Loss=0.17 Batch ID=781 Accuracy=96.60: 100%|██████████| 782/782 [00:57<00:00, 13.52it/s]\n"
          ],
          "name": "stderr"
        },
        {
          "output_type": "stream",
          "text": [
            "\n",
            "Validation set: Average loss: 0.0048, Accuracy: 9117/10000 (91.17%)\n",
            "\n"
          ],
          "name": "stdout"
        }
      ]
    },
    {
      "cell_type": "markdown",
      "metadata": {
        "id": "kunBhY50BlLZ",
        "colab_type": "text"
      },
      "source": [
        "###Plotting the loss of the model per epoch"
      ]
    },
    {
      "cell_type": "code",
      "metadata": {
        "id": "yy99CafrqFvj",
        "colab_type": "code",
        "outputId": "5124be53-2e3e-40b8-fcff-7899fe8dde70",
        "colab": {
          "base_uri": "https://localhost:8080/",
          "height": 350
        }
      },
      "source": [
        "plot_metric(losses, 'Loss')"
      ],
      "execution_count": 10,
      "outputs": [
        {
          "output_type": "display_data",
          "data": {
            "image/png": "[encoded data removed]",
            "text/plain": [
              "<Figure size 504x360 with 1 Axes>"
            ]
          },
          "metadata": {
            "tags": []
          }
        }
      ]
    },
    {
      "cell_type": "markdown",
      "metadata": {
        "id": "GrdL3RxaCMvR",
        "colab_type": "text"
      },
      "source": [
        "###Plotting the accuracy of the model per epoch"
      ]
    },
    {
      "cell_type": "code",
      "metadata": {
        "id": "-nEhHTVqxo54",
        "colab_type": "code",
        "outputId": "ab7438e1-222b-4cde-fc93-6db5e4357cd1",
        "colab": {
          "base_uri": "https://localhost:8080/",
          "height": 350
        }
      },
      "source": [
        "plot_metric(accuracies, 'Accuracy')"
      ],
      "execution_count": 11,
      "outputs": [
        {
          "output_type": "display_data",
          "data": {
            "image/png": "[encoded data removed]",
            "text/plain": [
              "<Figure size 504x360 with 1 Axes>"
            ]
          },
          "metadata": {
            "tags": []
          }
        }
      ]
    },
    {
      "cell_type": "markdown",
      "metadata": {
        "id": "Dwgw8ycvCVq4",
        "colab_type": "text"
      },
      "source": [
        "###Misclassified Images"
      ]
    },
    {
      "cell_type": "code",
      "metadata": {
        "id": "-OF1ZK4dx_8F",
        "colab_type": "code",
        "outputId": "988b7c71-4cc9-4692-abb4-23d9bd90adb0",
        "colab": {
          "base_uri": "https://localhost:8080/",
          "height": 162
        }
      },
      "source": [
        "display(cifar10.test_data,device,model,cifar10.classes)"
      ],
      "execution_count": 12,
      "outputs": [
        {
          "output_type": "display_data",
          "data": {
            "image/png": "[encoded data removed]",
            "text/plain": [
              "<Figure size 576x576 with 4 Axes>"
            ]
          },
          "metadata": {
            "tags": []
          }
        }
      ]
    },
    {
      "cell_type": "code",
      "metadata": {
        "id": "DJbc5e_TZejA",
        "colab_type": "code",
        "colab": {}
      },
      "source": [
        ""
      ],
      "execution_count": 0,
      "outputs": []
    }
  ]
}